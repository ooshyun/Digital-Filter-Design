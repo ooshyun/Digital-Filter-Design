{
 "cells": [
  {
   "cell_type": "code",
   "execution_count": 1,
   "metadata": {},
   "outputs": [],
   "source": [
    "import IPython.display as ipd\n",
    "import librosa\n",
    "import librosa.display\n",
    "import scipy.signal as signal\n",
    "import numpy as np\n",
    "import matplotlib.pyplot as plt"
   ]
  },
  {
   "cell_type": "code",
   "execution_count": 2,
   "metadata": {},
   "outputs": [],
   "source": [
    "wav, sr = librosa.load(librosa.ex(\"trumpet\"))\n",
    "\n",
    "# # sin\n",
    "# sr = 44100\n",
    "# f = 1000\n",
    "# amp = 10**(-40/20)\n",
    "# wav = amp*np.sin(2*np.pi*f*np.arange(100000)/sr)"
   ]
  },
  {
   "cell_type": "code",
   "execution_count": 3,
   "metadata": {},
   "outputs": [
    {
     "data": {
      "text/plain": [
       "(66150,)"
      ]
     },
     "execution_count": 3,
     "metadata": {},
     "output_type": "execute_result"
    }
   ],
   "source": [
    "wav = wav[:sr*3]\n",
    "wav.shape"
   ]
  },
  {
   "cell_type": "code",
   "execution_count": 4,
   "metadata": {},
   "outputs": [
    {
     "data": {
      "text/plain": [
       "[<matplotlib.lines.Line2D at 0x17441f160>]"
      ]
     },
     "execution_count": 4,
     "metadata": {},
     "output_type": "execute_result"
    },
    {
     "data": {
      "image/png": "[encoded data removed]",
      "text/plain": [
       "<Figure size 432x288 with 1 Axes>"
      ]
     },
     "metadata": {
      "needs_background": "light"
     },
     "output_type": "display_data"
    }
   ],
   "source": [
    "plt.plot(wav[:100])"
   ]
  },
  {
   "cell_type": "code",
   "execution_count": 5,
   "metadata": {},
   "outputs": [],
   "source": [
    "n_fft = 2048\n",
    "hop_length = 512\n",
    "n_mels = 128\n",
    "power = 2."
   ]
  },
  {
   "cell_type": "code",
   "execution_count": 6,
   "metadata": {},
   "outputs": [
    {
     "name": "stderr",
     "output_type": "stream",
     "text": [
      "/var/folders/1g/912b41091855kd9w5h7bz27c0000gn/T/ipykernel_46347/4221482076.py:1: FutureWarning: Pass y=[-0.00140682 -0.00044607 -0.00041098 ...  0.01403542  0.01173\n",
      "  0.0083307 ] as keyword args. From version 0.10 passing these as positional arguments will result in an error\n",
      "  melspec, _ = librosa.feature.melspectrogram(wav,\n"
     ]
    },
    {
     "ename": "ValueError",
     "evalue": "too many values to unpack (expected 2)",
     "output_type": "error",
     "traceback": [
      "\u001b[0;31m---------------------------------------------------------------------------\u001b[0m",
      "\u001b[0;31mValueError\u001b[0m                                Traceback (most recent call last)",
      "\u001b[1;32m/Users/seunghyunoh/workplace/research/filter_design/study/mel-spectrogram/mel.ipynb Cell 6\u001b[0m in \u001b[0;36m<cell line: 1>\u001b[0;34m()\u001b[0m\n\u001b[0;32m----> <a href='vscode-notebook-cell:/Users/seunghyunoh/workplace/research/filter_design/study/mel-spectrogram/mel.ipynb#W5sZmlsZQ%3D%3D?line=0'>1</a>\u001b[0m melspec, _ \u001b[39m=\u001b[39m librosa\u001b[39m.\u001b[39mfeature\u001b[39m.\u001b[39mmelspectrogram(wav, \n\u001b[1;32m      <a href='vscode-notebook-cell:/Users/seunghyunoh/workplace/research/filter_design/study/mel-spectrogram/mel.ipynb#W5sZmlsZQ%3D%3D?line=1'>2</a>\u001b[0m                                 sr\u001b[39m=\u001b[39msr, \n\u001b[1;32m      <a href='vscode-notebook-cell:/Users/seunghyunoh/workplace/research/filter_design/study/mel-spectrogram/mel.ipynb#W5sZmlsZQ%3D%3D?line=2'>3</a>\u001b[0m                                 n_mels\u001b[39m=\u001b[39mn_mels,\n\u001b[1;32m      <a href='vscode-notebook-cell:/Users/seunghyunoh/workplace/research/filter_design/study/mel-spectrogram/mel.ipynb#W5sZmlsZQ%3D%3D?line=3'>4</a>\u001b[0m                                 n_fft\u001b[39m=\u001b[39mn_fft, \n\u001b[1;32m      <a href='vscode-notebook-cell:/Users/seunghyunoh/workplace/research/filter_design/study/mel-spectrogram/mel.ipynb#W5sZmlsZQ%3D%3D?line=4'>5</a>\u001b[0m                                 hop_length\u001b[39m=\u001b[39mhop_length, \n\u001b[1;32m      <a href='vscode-notebook-cell:/Users/seunghyunoh/workplace/research/filter_design/study/mel-spectrogram/mel.ipynb#W5sZmlsZQ%3D%3D?line=5'>6</a>\u001b[0m                                 win_length\u001b[39m=\u001b[39mn_fft, \n\u001b[1;32m      <a href='vscode-notebook-cell:/Users/seunghyunoh/workplace/research/filter_design/study/mel-spectrogram/mel.ipynb#W5sZmlsZQ%3D%3D?line=6'>7</a>\u001b[0m                                 window\u001b[39m=\u001b[39m\u001b[39m\"\u001b[39m\u001b[39mhann\u001b[39m\u001b[39m\"\u001b[39m, \n\u001b[1;32m      <a href='vscode-notebook-cell:/Users/seunghyunoh/workplace/research/filter_design/study/mel-spectrogram/mel.ipynb#W5sZmlsZQ%3D%3D?line=7'>8</a>\u001b[0m                                 center\u001b[39m=\u001b[39m\u001b[39mTrue\u001b[39;00m, \n\u001b[1;32m      <a href='vscode-notebook-cell:/Users/seunghyunoh/workplace/research/filter_design/study/mel-spectrogram/mel.ipynb#W5sZmlsZQ%3D%3D?line=8'>9</a>\u001b[0m                                 pad_mode \u001b[39m=\u001b[39m \u001b[39m\"\u001b[39m\u001b[39mconstant\u001b[39m\u001b[39m\"\u001b[39m, \n\u001b[1;32m     <a href='vscode-notebook-cell:/Users/seunghyunoh/workplace/research/filter_design/study/mel-spectrogram/mel.ipynb#W5sZmlsZQ%3D%3D?line=9'>10</a>\u001b[0m                                 power\u001b[39m=\u001b[39mpower)\n",
      "\u001b[0;31mValueError\u001b[0m: too many values to unpack (expected 2)"
     ]
    }
   ],
   "source": [
    "melspec, _ = librosa.feature.melspectrogram(wav, \n",
    "                                sr=sr, \n",
    "                                n_mels=n_mels,\n",
    "                                n_fft=n_fft, \n",
    "                                hop_length=hop_length, \n",
    "                                win_length=n_fft, \n",
    "                                window=\"hann\", \n",
    "                                center=True, \n",
    "                                pad_mode = \"constant\", \n",
    "                                power=power)"
   ]
  },
  {
   "cell_type": "code",
   "execution_count": null,
   "metadata": {},
   "outputs": [],
   "source": [
    "melspec, (mel_f, fftfreqs, fdiff, ramps) = librosa.feature.melspectrogram(wav, \n",
    "                                sr=sr, \n",
    "                                n_mels=n_mels,\n",
    "                                n_fft=n_fft, \n",
    "                                hop_length=hop_length, \n",
    "                                win_length=n_fft, \n",
    "                                window=\"hann\", \n",
    "                                center=True, \n",
    "                                pad_mode = \"constant\", \n",
    "                                power=power,\n",
    "                                # htk=True,\n",
    "                                )"
   ]
  },
  {
   "cell_type": "code",
   "execution_count": null,
   "metadata": {},
   "outputs": [],
   "source": [
    "# Scratch Mel Spectrogram\n",
    "\n",
    "S = librosa.stft(y=wav, \n",
    "                n_fft=n_fft, \n",
    "                hop_length=hop_length, \n",
    "                win_length=n_fft, \n",
    "                window=\"hann\", \n",
    "                center=True, \n",
    "                pad_mode=\"constant\")\n",
    "\n",
    "S_spectrogram = np.abs(S) ** power"
   ]
  },
  {
   "cell_type": "code",
   "execution_count": null,
   "metadata": {},
   "outputs": [],
   "source": [
    "\"\"\"\n",
    "HTK formula\n",
    "\n",
    "Slaney\n",
    "\n",
    "\"\"\"\n",
    "mel_basis = librosa.filters.mel(sr=sr, n_fft=n_fft, n_mels=n_mels)"
   ]
  },
  {
   "cell_type": "code",
   "execution_count": null,
   "metadata": {},
   "outputs": [],
   "source": [
    "fig, axes = plt.subplots(nrows=3)\n",
    "\n",
    "# mel 0\n",
    "axes[0].plot(mel_basis[0], \"o\")\n",
    "axes[0].set_xlim(0, 10)\n",
    "\n",
    "# mel 1\n",
    "axes[1].plot(mel_basis[1], \"o\")\n",
    "axes[1].set_xlim(0, 10)\n",
    "\n",
    "# mel 2\n",
    "axes[2].plot(mel_basis[2], \"o\")\n",
    "axes[2].set_xlim(2, 12)"
   ]
  },
  {
   "cell_type": "code",
   "execution_count": null,
   "metadata": {},
   "outputs": [],
   "source": [
    "fig, ax = plt.subplots()\n",
    "img = librosa.display.specshow(mel_basis, x_axis='linear', ax=ax)\n",
    "ax.set(ylabel='Mel filter', title='Mel filter bank')\n",
    "fig.colorbar(img, ax=ax)"
   ]
  },
  {
   "cell_type": "code",
   "execution_count": null,
   "metadata": {},
   "outputs": [],
   "source": [
    "fig, ax = plt.subplots()\n",
    "S_dB = librosa.power_to_db(melspec, ref=np.max)\n",
    "img = librosa.display.specshow(S_dB, x_axis='time',\n",
    "                          y_axis='mel', sr=sr,\n",
    "                          fmax=8000, ax=ax)\n",
    "fig.colorbar(img, ax=ax, format='%+2.0f dB')\n",
    "ax.set(title='Mel-frequency spectrogram')"
   ]
  }
 ],
 "metadata": {
  "kernelspec": {
   "display_name": "mlp",
   "language": "python",
   "name": "python3"
  },
  "language_info": {
   "codemirror_mode": {
    "name": "ipython",
    "version": 3
   },
   "file_extension": ".py",
   "mimetype": "text/x-python",
   "name": "python",
   "nbconvert_exporter": "python",
   "pygments_lexer": "ipython3",
   "version": "3.8.13"
  },
  "orig_nbformat": 4
 },
 "nbformat": 4,
 "nbformat_minor": 2
}
